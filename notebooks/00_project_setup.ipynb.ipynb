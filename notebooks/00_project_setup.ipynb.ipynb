{
 "cells": [
  {
   "cell_type": "code",
   "execution_count": 1,
   "id": "df0d5803-d7e0-4a5a-86ed-38bd5185c26b",
   "metadata": {},
   "outputs": [],
   "source": [
    "# Environment & Config Check\n",
    "\n"
   ]
  },
  {
   "cell_type": "code",
   "execution_count": 8,
   "id": "765ce2b0-4786-487c-bb96-671505e8f166",
   "metadata": {},
   "outputs": [
    {
     "name": "stdout",
     "output_type": "stream",
     "text": [
      "API_KEY present: True\n",
      "NumPy array: [0 1 2 3 4]\n"
     ]
    }
   ],
   "source": [
    "import sys\n",
    "sys.path.append(\"..\")  # Adds the project root to Python path\n",
    "\n",
    "from src.config import load_env, get_key\n",
    "import numpy as np\n",
    "\n",
    "load_env()\n",
    "print(\"API_KEY present:\", get_key(\"API_KEY\") is not None)\n",
    "\n",
    "arr = np.arange(5)\n",
    "print(\"NumPy array:\", arr)\n"
   ]
  },
  {
   "cell_type": "code",
   "execution_count": null,
   "id": "78fe31ad-2680-4a64-9efe-6063840d9c07",
   "metadata": {},
   "outputs": [],
   "source": []
  }
 ],
 "metadata": {
  "kernelspec": {
   "display_name": "Python 3 (ipykernel)",
   "language": "python",
   "name": "python3"
  },
  "language_info": {
   "codemirror_mode": {
    "name": "ipython",
    "version": 3
   },
   "file_extension": ".py",
   "mimetype": "text/x-python",
   "name": "python",
   "nbconvert_exporter": "python",
   "pygments_lexer": "ipython3",
   "version": "3.10.18"
  }
 },
 "nbformat": 4,
 "nbformat_minor": 5
}
