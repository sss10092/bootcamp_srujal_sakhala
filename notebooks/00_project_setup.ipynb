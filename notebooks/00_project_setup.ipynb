{
 "cells": [
  {
   "cell_type": "markdown",
   "metadata": {},
   "source": ["# Environment & Config Check"]
  },
  {
   "cell_type": "code",
   "metadata": {},
   "source": [
    "from src.config import load_env, get_key\n",
    "import numpy as np\n",
    "\n",
    "load_env()\n",
    "print('API_KEY:', get_key('API_KEY'))\n",
    "print('Array sum check:', np.sum([1,2,3]))"
   ]
  }
 ],
 "metadata": {
  "kernelspec": {
   "display_name": "Python 3",
   "language": "python",
   "name": "python3"
  }
 },
 "nbformat": 4,
 "nbformat_minor": 2
}
