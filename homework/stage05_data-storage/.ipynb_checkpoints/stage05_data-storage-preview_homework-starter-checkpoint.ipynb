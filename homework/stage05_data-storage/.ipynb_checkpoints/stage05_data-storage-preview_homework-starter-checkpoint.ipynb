{
 "cells": [
  {
   "cell_type": "code",
   "execution_count": 2,
   "id": "bcb86ff0-d61d-4503-a374-13836ca5554c",
   "metadata": {},
   "outputs": [],
   "source": [
    "import os\n",
    "import pandas as pd\n",
    "from dotenv import load_dotenv"
   ]
  },
  {
   "cell_type": "code",
   "execution_count": 3,
   "id": "58fc5dbc-4520-4400-97ba-bc64a757abcd",
   "metadata": {},
   "outputs": [
    {
     "data": {
      "text/plain": [
       "False"
      ]
     },
     "execution_count": 3,
     "metadata": {},
     "output_type": "execute_result"
    }
   ],
   "source": [
    "load_dotenv()"
   ]
  },
  {
   "cell_type": "code",
   "execution_count": 4,
   "id": "b34d4302-d6d3-4206-9072-5b4480dd69db",
   "metadata": {},
   "outputs": [],
   "source": [
    "DATA_DIR_RAW = os.getenv(\"DATA_DIR_RAW\", \"data/raw\")\n",
    "DATA_DIR_PROCESSED = os.getenv(\"DATA_DIR_PROCESSED\", \"data/processed\")"
   ]
  },
  {
   "cell_type": "code",
   "execution_count": 5,
   "id": "21f0ca78-343f-4c91-b71f-d5c58a599966",
   "metadata": {},
   "outputs": [],
   "source": [
    "os.makedirs(DATA_DIR_RAW, exist_ok=True)\n",
    "os.makedirs(DATA_DIR_PROCESSED, exist_ok=True)\n"
   ]
  },
  {
   "cell_type": "code",
   "execution_count": 6,
   "id": "22f0605f-6632-4aa8-8c9d-22cff8642fba",
   "metadata": {},
   "outputs": [],
   "source": [
    "df = pd.DataFrame({\n",
    "    \"id\": [1, 2, 3],\n",
    "    \"name\": [\"Alice\", \"Bob\", \"Charlie\"],\n",
    "    \"score\": [85, 92, 78]\n",
    "})"
   ]
  },
  {
   "cell_type": "code",
   "execution_count": 7,
   "id": "e64e0db6-69cf-4b93-a7bf-30bef5dce8fe",
   "metadata": {},
   "outputs": [
    {
     "name": "stdout",
     "output_type": "stream",
     "text": [
      "Requirement already satisfied: pyarrow in /Users/personal/miniconda3/lib/python3.13/site-packages (21.0.0)\n",
      "Note: you may need to restart the kernel to use updated packages.\n"
     ]
    }
   ],
   "source": [
    "pip install pyarrow\n"
   ]
  },
  {
   "cell_type": "code",
   "execution_count": 8,
   "id": "1da9c509-4f5d-4173-a980-19f74a2b2da3",
   "metadata": {},
   "outputs": [],
   "source": [
    "csv_path = os.path.join(DATA_DIR_RAW, \"sample.csv\")\n",
    "df.to_csv(csv_path, index=False)"
   ]
  },
  {
   "cell_type": "code",
   "execution_count": 9,
   "id": "34dae598-58de-4db8-b08d-920d947c179c",
   "metadata": {},
   "outputs": [],
   "source": [
    "parquet_path = os.path.join(DATA_DIR_PROCESSED, \"sample.parquet\")\n",
    "df.to_parquet(parquet_path, index=False)"
   ]
  },
  {
   "cell_type": "code",
   "execution_count": 24,
   "id": "e00d2603-3e7f-4930-9355-86eea693b4df",
   "metadata": {},
   "outputs": [],
   "source": [
    "def validate_files(csv_path: str, parquet_path: str, critical_cols: dict):\n",
    "   \n",
    "    df_csv = pd.read_csv(csv_path)\n",
    "    df_parquet = pd.read_parquet(parquet_path)\n",
    "    \n",
    "    results = {}\n",
    "\n",
    "    # Shape check\n",
    "    results[\"shape_match\"] = df_csv.shape == df_parquet.shape\n",
    "    results[\"csv_shape\"] = df_csv.shape\n",
    "    results[\"parquet_shape\"] = df_parquet.shape\n",
    "\n",
    "    # Critical dtype checks\n",
    "    dtype_check = {}\n",
    "    for col, expected in critical_cols.items():\n",
    "        dtype_check[col] = {\n",
    "            \"csv\": str(df_csv[col].dtype),\n",
    "            \"parquet\": str(df_parquet[col].dtype),\n",
    "            \"expected\": expected,\n",
    "            \"ok_csv\": str(df_csv[col].dtype) == expected,\n",
    "            \"ok_parquet\": str(df_parquet[col].dtype) == expected,\n",
    "        }\n",
    "    results[\"dtype_check\"] = dtype_check\n",
    "\n",
    "    return results"
   ]
  },
  {
   "cell_type": "code",
   "execution_count": 25,
   "id": "068aef4c-950b-465f-8eff-cf101939b478",
   "metadata": {},
   "outputs": [],
   "source": [
    "critical_columns = {\n",
    "    \"id\": \"int64\",\n",
    "    \"name\": \"object\",   \n",
    "    \"score\": \"int64\"\n",
    "}"
   ]
  },
  {
   "cell_type": "code",
   "execution_count": 26,
   "id": "96f30e9a-d77f-4eea-8d6b-7a6fa3dbfc71",
   "metadata": {},
   "outputs": [],
   "source": [
    "def write_df(df: pd.DataFrame, path: str, **kwargs):\n",
    "    \n",
    "    os.makedirs(os.path.dirname(path), exist_ok=True)\n",
    "    suffix = os.path.splitext(path)[1].lower()\n",
    "\n",
    "    if suffix == \".csv\":\n",
    "        df.to_csv(path, index=False, **kwargs)\n",
    "    elif suffix == \".parquet\":\n",
    "        try:\n",
    "            df.to_parquet(path, index=False, **kwargs)\n",
    "        except ImportError as e:\n",
    "            raise ImportError(\n",
    "                \"Parquet support requires `pyarrow` or `fastparquet`. \"\n",
    "                \"Install one with:\\n\"\n",
    "                \"  pip install pyarrow   OR   pip install fastparquet\"\n",
    "            ) from e\n",
    "    else:\n",
    "        raise ValueError(f\"Unsupported file format: {suffix}\")\n",
    "    \n",
    "    print(f\"✅ Saved DataFrame to {path}\")\n"
   ]
  },
  {
   "cell_type": "code",
   "execution_count": 27,
   "id": "0d9de332-065f-4685-8408-730295a371d3",
   "metadata": {},
   "outputs": [],
   "source": [
    "def read_df(path: str, **kwargs) -> pd.DataFrame:\n",
    "   \n",
    "    suffix = os.path.splitext(path)[1].lower()\n",
    "\n",
    "    if suffix == \".csv\":\n",
    "        return pd.read_csv(path, **kwargs)\n",
    "    elif suffix == \".parquet\":\n",
    "        try:\n",
    "            return pd.read_parquet(path, **kwargs)\n",
    "        except ImportError as e:\n",
    "            raise ImportError(\n",
    "                \"Parquet support requires `pyarrow` or `fastparquet`. \"\n",
    "                \"Install one with:\\n\"\n",
    "                \"  pip install pyarrow   OR   pip install fastparquet\"\n",
    "            ) from e\n",
    "    else:\n",
    "        raise ValueError(f\"Unsupported file format: {suffix}\")"
   ]
  },
  {
   "cell_type": "code",
   "execution_count": 29,
   "id": "b2513a50-3af0-4a26-8256-6f1652604156",
   "metadata": {},
   "outputs": [
    {
     "name": "stdout",
     "output_type": "stream",
     "text": [
      "✅ Saved DataFrame to data/raw/sample.csv\n",
      "✅ Saved DataFrame to data/processed/sample.parquet\n"
     ]
    }
   ],
   "source": [
    "write_df(df, csv_path)\n",
    "write_df(df, parquet_path)"
   ]
  },
  {
   "cell_type": "code",
   "execution_count": 30,
   "id": "bbb6fe15-5d4b-4548-9622-0deae335d51b",
   "metadata": {},
   "outputs": [],
   "source": [
    "results = validate_files(csv_path, parquet_path, critical_columns)"
   ]
  },
  {
   "cell_type": "code",
   "execution_count": 31,
   "id": "b08c2f1f-42bd-46d5-8414-a13298c76091",
   "metadata": {},
   "outputs": [
    {
     "name": "stdout",
     "output_type": "stream",
     "text": [
      "\n",
      "--- Validation Results ---\n",
      "{'csv_shape': (3, 3),\n",
      " 'dtype_check': {'id': {'csv': 'int64',\n",
      "                        'expected': 'int64',\n",
      "                        'ok_csv': True,\n",
      "                        'ok_parquet': True,\n",
      "                        'parquet': 'int64'},\n",
      "                 'name': {'csv': 'object',\n",
      "                          'expected': 'object',\n",
      "                          'ok_csv': True,\n",
      "                          'ok_parquet': True,\n",
      "                          'parquet': 'object'},\n",
      "                 'score': {'csv': 'int64',\n",
      "                           'expected': 'int64',\n",
      "                           'ok_csv': True,\n",
      "                           'ok_parquet': True,\n",
      "                           'parquet': 'int64'}},\n",
      " 'parquet_shape': (3, 3),\n",
      " 'shape_match': True}\n"
     ]
    }
   ],
   "source": [
    "print(\"\\n--- Validation Results ---\")\n",
    "pprint.pprint(results)"
   ]
  }
 ],
 "metadata": {
  "kernelspec": {
   "display_name": "Python 3 (ipykernel)",
   "language": "python",
   "name": "python3"
  },
  "language_info": {
   "codemirror_mode": {
    "name": "ipython",
    "version": 3
   },
   "file_extension": ".py",
   "mimetype": "text/x-python",
   "name": "python",
   "nbconvert_exporter": "python",
   "pygments_lexer": "ipython3",
   "version": "3.13.5"
  }
 },
 "nbformat": 4,
 "nbformat_minor": 5
}
