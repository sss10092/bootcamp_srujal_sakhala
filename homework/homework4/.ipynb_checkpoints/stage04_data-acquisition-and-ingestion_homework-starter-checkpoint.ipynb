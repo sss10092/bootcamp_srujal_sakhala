{
 "cells": [
  {
   "cell_type": "markdown",
   "id": "84d82887-e910-492f-880f-7800b976d98f",
   "metadata": {},
   "source": [
    "### 3. Documentation\n",
    "\n",
    "**Data Sources / URLs:**  \n",
    "- `Source 1:` [https://en.wikipedia.org/wiki/List_of_S%26P_500_companies] – historical stock prices  \n",
    "- `Source 2:` [https://www.alphavantage.co/query?function=TIME_SERIES_DAILY&symbol={ticker}&apikey={api_key}&datatype=csv] – company metadata  \n",
    "\n",
    "**Validation Logic:**  \n",
    "1. Check that all required columns exist: `['date', 'symbol', 'close', 'volume']`.  \n",
    "2. Ensure no duplicate entries for the same `symbol` and `date`.  \n",
    "3. Validate numeric columns (`close`, `volume`) are non-negative.  \n",
    "4. Confirm date values are within the specified range (`start_date` to `end_date`).  \n",
    "\n",
    "**Environment / Security:**  \n",
    "- `.env` file contains API keys or sensitive information. **Ensure it is not committed to Git.**  \n",
    "\n",
    "**Assumptions & Risks:**  \n",
    "- Data from external sources may be delayed or incomplete.  \n",
    "- API limits could restrict data fetching.  \n",
    "- Assumes `volume` thresholds are consistent across all stocks.  \n",
    "- Any missing values are handled by dropping or imputing—this could bias analysis.\n"
   ]
  },
  {
   "cell_type": "code",
   "execution_count": 1,
   "id": "9d47126f-2101-4329-91b7-b0b33fcd2881",
   "metadata": {},
   "outputs": [],
   "source": [
    "import os\n",
    "import requests\n",
    "import pandas as pd\n",
    "import yfinance as yf\n",
    "from dotenv import load_dotenv\n",
    "from pathlib import Path"
   ]
  },
  {
   "cell_type": "code",
   "execution_count": 7,
   "id": "b5fc3532-f2da-4622-8d48-e3fdd5a0437e",
   "metadata": {},
   "outputs": [],
   "source": [
    "\n",
    "\n",
    "def fetch_data(ticker=\"AAPL\", use_yfinance=True):\n",
    "    api_key = load_api_key()\n",
    "\n",
    "    if use_yfinance or not api_key:\n",
    "        print(\"Using yfinance fallback...\")\n",
    "        df = yf.download(ticker, period=\"1mo\", interval=\"1d\").reset_index()\n",
    "    else:\n",
    "        url = f\"https://www.alphavantage.co/query?function=TIME_SERIES_DAILY&symbol={ticker}&apikey={api_key}&datatype=csv\"\n",
    "        response = requests.get(url)\n",
    "        response.raise_for_status()\n",
    "        from io import StringIO\n",
    "        df = pd.read_csv(StringIO(response.text))\n",
    "    \n",
    "    return df"
   ]
  },
  {
   "cell_type": "code",
   "execution_count": 8,
   "id": "6bcad455-40f2-4bd0-869c-7088b048ce97",
   "metadata": {},
   "outputs": [],
   "source": [
    "def validate_data(df, required_cols=None):\n",
    "    if required_cols is None:\n",
    "        required_cols = [\"Date\", \"Open\", \"High\", \"Low\", \"Close\", \"Volume\"]\n",
    "\n",
    "    for col in required_cols:\n",
    "        if col not in df.columns:\n",
    "            raise ValueError(f\"Missing required column: {col}\")\n",
    "\n",
    "    na_counts = df.isna().sum()\n",
    "    if na_counts.any():\n",
    "        print(\"Warning: NA values found:\\n\", na_counts)\n",
    "\n",
    "    if df.shape[0] == 0:\n",
    "        raise ValueError(\"DataFrame is empty!\")\n",
    "\n",
    "    print(\"Validation passed ✔️\")"
   ]
  },
  {
   "cell_type": "code",
   "execution_count": 9,
   "id": "39d1681c-5269-495f-bba3-167e9ba0e937",
   "metadata": {},
   "outputs": [],
   "source": [
    "def save_raw(df, ticker=\"AAPL\"):\n",
    "    raw_dir = Path(\"data/raw\")\n",
    "    raw_dir.mkdir(parents=True, exist_ok=True)\n",
    "    filepath = raw_dir / f\"{ticker}_raw.csv\"\n",
    "    df.to_csv(filepath, index=False)\n",
    "    print(f\"Saved raw data to {filepath}\")"
   ]
  },
  {
   "cell_type": "code",
   "execution_count": 11,
   "id": "9920ab84-bd27-4a72-abc3-f9150c1634b2",
   "metadata": {},
   "outputs": [],
   "source": [
    "def load_api_key():\n",
    "    load_dotenv()\n",
    "    return os.getenv(\"API_KEY\")"
   ]
  },
  {
   "cell_type": "code",
   "execution_count": 13,
   "id": "985bea1a-e994-46c7-a942-50da5e1e32ed",
   "metadata": {},
   "outputs": [
    {
     "name": "stdout",
     "output_type": "stream",
     "text": [
      "Using yfinance fallback...\n"
     ]
    },
    {
     "name": "stderr",
     "output_type": "stream",
     "text": [
      "/var/folders/58/zk1gkm595594pr26df629j_40000gn/T/ipykernel_40637/3471535283.py:6: FutureWarning: YF.download() has changed argument auto_adjust default to True\n",
      "  df = yf.download(ticker, period=\"1mo\", interval=\"1d\").reset_index()\n",
      "[*********************100%***********************]  1 of 1 completed"
     ]
    },
    {
     "name": "stdout",
     "output_type": "stream",
     "text": [
      "Validation passed ✔️\n",
      "Saved raw data to data/raw/AAPL_raw.csv\n"
     ]
    },
    {
     "name": "stderr",
     "output_type": "stream",
     "text": [
      "\n"
     ]
    }
   ],
   "source": [
    "df = fetch_data(ticker)\n",
    "validate_data(df)\n",
    "save_raw(df, ticker)"
   ]
  },
  {
   "cell_type": "code",
   "execution_count": 14,
   "id": "ebda6d22-993a-4a20-a070-025b5c349daa",
   "metadata": {},
   "outputs": [],
   "source": [
    "from bs4 import BeautifulSoup\n",
    "from io import StringIO\n"
   ]
  },
  {
   "cell_type": "code",
   "execution_count": 15,
   "id": "282c3bdd-d1f9-43f2-887d-3160662c5c7a",
   "metadata": {},
   "outputs": [],
   "source": [
    "def fetch_html(url):\n",
    "    response = requests.get(url)\n",
    "    response.raise_for_status()\n",
    "    return response.text"
   ]
  },
  {
   "cell_type": "code",
   "execution_count": 16,
   "id": "766244ef-d5e3-4039-a504-f38b8ad68b0a",
   "metadata": {},
   "outputs": [],
   "source": [
    "def parse_table(html):\n",
    "    soup = BeautifulSoup(html, \"html.parser\")\n",
    "    table = soup.find(\"table\", {\"id\": \"constituents\"})\n",
    "    \n",
    "    \n",
    "    df = pd.read_html(StringIO(str(table)))[0]\n",
    "    return df"
   ]
  },
  {
   "cell_type": "code",
   "execution_count": 17,
   "id": "c31f5204-733b-4513-9a80-735bcec17254",
   "metadata": {},
   "outputs": [],
   "source": [
    "def validate_table(df):\n",
    "    if \"Symbol\" not in df.columns or \"Security\" not in df.columns:\n",
    "        raise ValueError(\"Missing expected columns in scraped table\")\n",
    "    \n",
    "    if df.shape[0] < 250:  \n",
    "        raise ValueError(\"Scraped table seems incomplete\")\n",
    "    \n",
    "    print(\"Validation passed ✔️\")"
   ]
  },
  {
   "cell_type": "code",
   "execution_count": 18,
   "id": "fecf3183-563e-47af-a403-74d3d6209b82",
   "metadata": {},
   "outputs": [],
   "source": [
    "def save_raw(df, name=\"sp500_companies\"):\n",
    "    raw_dir = Path(\"data/raw\")\n",
    "    raw_dir.mkdir(parents=True, exist_ok=True)\n",
    "    filepath = raw_dir / f\"{name}_raw.csv\"\n",
    "    df.to_csv(filepath, index=False)\n",
    "    print(f\"Saved raw data to {filepath}\")"
   ]
  },
  {
   "cell_type": "code",
   "execution_count": 19,
   "id": "abf94610-f7f0-4f6c-b84e-5e9d58270e7a",
   "metadata": {},
   "outputs": [
    {
     "name": "stdout",
     "output_type": "stream",
     "text": [
      "Validation passed ✔️\n",
      "Saved raw data to data/raw/sp500_companies_raw.csv\n"
     ]
    }
   ],
   "source": [
    "if __name__ == \"__main__\":\n",
    "    url = \"https://en.wikipedia.org/wiki/List_of_S%26P_500_companies\"\n",
    "    html = fetch_html(url)\n",
    "    df = parse_table(html)\n",
    "    validate_table(df)\n",
    "    save_raw(df)"
   ]
  }
 ],
 "metadata": {
  "kernelspec": {
   "display_name": "Python 3 (ipykernel)",
   "language": "python",
   "name": "python3"
  },
  "language_info": {
   "codemirror_mode": {
    "name": "ipython",
    "version": 3
   },
   "file_extension": ".py",
   "mimetype": "text/x-python",
   "name": "python",
   "nbconvert_exporter": "python",
   "pygments_lexer": "ipython3",
   "version": "3.13.5"
  }
 },
 "nbformat": 4,
 "nbformat_minor": 5
}
