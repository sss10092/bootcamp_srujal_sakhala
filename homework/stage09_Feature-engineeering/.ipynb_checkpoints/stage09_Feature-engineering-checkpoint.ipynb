{
 "cells": [
  {
   "cell_type": "code",
   "execution_count": 1,
   "id": "8ab33159-8284-4e7e-848c-152bd0c21545",
   "metadata": {},
   "outputs": [],
   "source": [
    "import numpy as np\n",
    "import pandas as pd\n",
    "\n"
   ]
  },
  {
   "cell_type": "code",
   "execution_count": 2,
   "id": "6b4bec7b-609b-4853-a7d2-3b4f2c1c4e03",
   "metadata": {},
   "outputs": [],
   "source": [
    "np.random.seed(42)\n",
    "\n",
    "n = 100  # number of rows\n",
    "\n",
    "df = pd.DataFrame({\n",
    "    \"customer_id\": range(1, n+1),\n",
    "    \"income\": np.random.randint(3000, 12000, size=n),            # monthly income\n",
    "    \"monthly_spend\": np.random.randint(500, 7000, size=n),       # monthly spend\n",
    "    \"age\": np.random.randint(18, 65, size=n),                    # age\n",
    "    \"credit_score\": np.random.randint(300, 850, size=n),         # credit score\n",
    "    \"default_flag\": np.random.choice([0, 1], size=n, p=[0.8, 0.2])  # target variable\n",
    "})"
   ]
  },
  {
   "cell_type": "code",
   "execution_count": 3,
   "id": "e0fb4345-2042-425a-8f3e-7411006fa4e2",
   "metadata": {},
   "outputs": [],
   "source": [
    "df['spend_income_ratio'] = df['monthly_spend'] / df['income']\n"
   ]
  },
  {
   "cell_type": "code",
   "execution_count": 4,
   "id": "a1397532-59f2-48f4-961b-06030e96b483",
   "metadata": {},
   "outputs": [],
   "source": [
    "df['age_credit_ratio'] = df['age'] / df['credit_score']\n"
   ]
  },
  {
   "cell_type": "markdown",
   "id": "47876425-a3ef-4591-a4fb-00bd01804042",
   "metadata": {},
   "source": [
    "Reasoning (Markdown):\n",
    "This feature relates a customer’s age to their credit score.\n",
    "\n",
    "A younger customer with a low score will have a high ratio (possibly riskier).\n",
    "\n",
    "An older customer with a high score will have a low ratio (potentially safer)."
   ]
  },
  {
   "cell_type": "code",
   "execution_count": 5,
   "id": "83ce63c6-ac0e-47c3-b7c8-96a0eaf13afe",
   "metadata": {},
   "outputs": [],
   "source": [
    "df['disposable_income'] = df['income'] - df['monthly_spend']\n"
   ]
  },
  {
   "cell_type": "markdown",
   "id": "c3a81c06-4e83-4080-977d-3b703cac70bd",
   "metadata": {},
   "source": [
    "This feature measures the leftover income after expenses.\n",
    "\n",
    "Higher disposable income suggests financial security.\n",
    "\n",
    "Lower disposable income (or negative) indicates risk of financial stress."
   ]
  },
  {
   "cell_type": "code",
   "execution_count": 7,
   "id": "17539a3e-f5f8-4a10-875c-4a051ef30365",
   "metadata": {},
   "outputs": [],
   "source": [
    "df.to_csv(\"synthetic_feature_engineering.csv\", index=False)\n"
   ]
  },
  {
   "cell_type": "code",
   "execution_count": 8,
   "id": "6d9b457b-0fb9-4e7a-ac41-36d75bb0b056",
   "metadata": {},
   "outputs": [
    {
     "data": {
      "text/html": [
       "<div>\n",
       "<style scoped>\n",
       "    .dataframe tbody tr th:only-of-type {\n",
       "        vertical-align: middle;\n",
       "    }\n",
       "\n",
       "    .dataframe tbody tr th {\n",
       "        vertical-align: top;\n",
       "    }\n",
       "\n",
       "    .dataframe thead th {\n",
       "        text-align: right;\n",
       "    }\n",
       "</style>\n",
       "<table border=\"1\" class=\"dataframe\">\n",
       "  <thead>\n",
       "    <tr style=\"text-align: right;\">\n",
       "      <th></th>\n",
       "      <th>customer_id</th>\n",
       "      <th>income</th>\n",
       "      <th>monthly_spend</th>\n",
       "      <th>age</th>\n",
       "      <th>credit_score</th>\n",
       "      <th>default_flag</th>\n",
       "      <th>spend_income_ratio</th>\n",
       "      <th>age_credit_ratio</th>\n",
       "      <th>disposable_income</th>\n",
       "    </tr>\n",
       "  </thead>\n",
       "  <tbody>\n",
       "    <tr>\n",
       "      <th>0</th>\n",
       "      <td>1</td>\n",
       "      <td>10270</td>\n",
       "      <td>2070</td>\n",
       "      <td>49</td>\n",
       "      <td>582</td>\n",
       "      <td>0</td>\n",
       "      <td>0.201558</td>\n",
       "      <td>0.084192</td>\n",
       "      <td>8200</td>\n",
       "    </tr>\n",
       "    <tr>\n",
       "      <th>1</th>\n",
       "      <td>2</td>\n",
       "      <td>3860</td>\n",
       "      <td>5556</td>\n",
       "      <td>21</td>\n",
       "      <td>326</td>\n",
       "      <td>0</td>\n",
       "      <td>1.439378</td>\n",
       "      <td>0.064417</td>\n",
       "      <td>-1696</td>\n",
       "    </tr>\n",
       "    <tr>\n",
       "      <th>2</th>\n",
       "      <td>3</td>\n",
       "      <td>8390</td>\n",
       "      <td>6081</td>\n",
       "      <td>28</td>\n",
       "      <td>525</td>\n",
       "      <td>0</td>\n",
       "      <td>0.724791</td>\n",
       "      <td>0.053333</td>\n",
       "      <td>2309</td>\n",
       "    </tr>\n",
       "    <tr>\n",
       "      <th>3</th>\n",
       "      <td>4</td>\n",
       "      <td>8191</td>\n",
       "      <td>3190</td>\n",
       "      <td>34</td>\n",
       "      <td>576</td>\n",
       "      <td>0</td>\n",
       "      <td>0.389452</td>\n",
       "      <td>0.059028</td>\n",
       "      <td>5001</td>\n",
       "    </tr>\n",
       "    <tr>\n",
       "      <th>4</th>\n",
       "      <td>5</td>\n",
       "      <td>8734</td>\n",
       "      <td>4340</td>\n",
       "      <td>55</td>\n",
       "      <td>583</td>\n",
       "      <td>1</td>\n",
       "      <td>0.496909</td>\n",
       "      <td>0.094340</td>\n",
       "      <td>4394</td>\n",
       "    </tr>\n",
       "  </tbody>\n",
       "</table>\n",
       "</div>"
      ],
      "text/plain": [
       "   customer_id  income  monthly_spend  age  credit_score  default_flag  \\\n",
       "0            1   10270           2070   49           582             0   \n",
       "1            2    3860           5556   21           326             0   \n",
       "2            3    8390           6081   28           525             0   \n",
       "3            4    8191           3190   34           576             0   \n",
       "4            5    8734           4340   55           583             1   \n",
       "\n",
       "   spend_income_ratio  age_credit_ratio  disposable_income  \n",
       "0            0.201558          0.084192               8200  \n",
       "1            1.439378          0.064417              -1696  \n",
       "2            0.724791          0.053333               2309  \n",
       "3            0.389452          0.059028               5001  \n",
       "4            0.496909          0.094340               4394  "
      ]
     },
     "execution_count": 8,
     "metadata": {},
     "output_type": "execute_result"
    }
   ],
   "source": [
    "df.head()\n"
   ]
  },
  {
   "cell_type": "code",
   "execution_count": 10,
   "id": "4ce0f68e-e638-42b6-9e2d-4bbf8b2ddf3b",
   "metadata": {},
   "outputs": [],
   "source": [
    "import matplotlib.pyplot as plt"
   ]
  },
  {
   "cell_type": "code",
   "execution_count": 11,
   "id": "62531e79-ff8f-4921-83c6-99cf04eec7e0",
   "metadata": {},
   "outputs": [
    {
     "data": {
      "image/png": "[encoded data removed]",
      "text/plain": [
       "<Figure size 640x480 with 1 Axes>"
      ]
     },
     "metadata": {},
     "output_type": "display_data"
    }
   ],
   "source": [
    "df[['spend_income_ratio','default_flag']].corr()\n",
    "df.boxplot(column='spend_income_ratio', by='default_flag')\n",
    "plt.title(\"Spend-to-Income Ratio by Default Flag\")\n",
    "plt.suptitle(\"\")\n",
    "plt.show()\n"
   ]
  },
  {
   "cell_type": "markdown",
   "id": "b7231a1f-1cd8-4af6-9a9a-cee332e077c5",
   "metadata": {},
   "source": [
    "This feature captures how much a customer spends relative to their earnings.\n",
    "\n",
    "A high ratio means spending consumes a large share of income → higher financial stress.\n",
    "\n",
    "A low ratio means spending is well within income limits → more stable financially."
   ]
  }
 ],
 "metadata": {
  "kernelspec": {
   "display_name": "Python 3 (ipykernel)",
   "language": "python",
   "name": "python3"
  },
  "language_info": {
   "codemirror_mode": {
    "name": "ipython",
    "version": 3
   },
   "file_extension": ".py",
   "mimetype": "text/x-python",
   "name": "python",
   "nbconvert_exporter": "python",
   "pygments_lexer": "ipython3",
   "version": "3.13.5"
  }
 },
 "nbformat": 4,
 "nbformat_minor": 5
}
